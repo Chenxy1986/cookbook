{
  "nbformat": 4,
  "nbformat_minor": 0,
  "metadata": {
    "colab": {
      "provenance": [],
      "authorship_tag": "ABX9TyMulY9/p+cjqQ1W868L3Xqi",
      "include_colab_link": true
    },
    "kernelspec": {
      "name": "python3",
      "display_name": "Python 3"
    },
    "language_info": {
      "name": "python"
    }
  },
  "cells": [
    {
      "cell_type": "markdown",
      "metadata": {
        "id": "view-in-github",
        "colab_type": "text"
      },
      "source": [
        "<a href=\"https://colab.research.google.com/github/jeaneigsi/cookbook/blob/main/langchain.ipynb\" target=\"_parent\"><img src=\"https://colab.research.google.com/assets/colab-badge.svg\" alt=\"Open In Colab\"/></a>"
      ]
    },
    {
      "cell_type": "code",
      "execution_count": null,
      "metadata": {
        "id": "5NrOgu_NMk90"
      },
      "outputs": [],
      "source": [
        "!pip install langchain"
      ]
    },
    {
      "cell_type": "code",
      "source": [
        "!git clone https://github.com/andrewliew86/Deploying-LLM-agents-on-cloud-GPUs.git"
      ],
      "metadata": {
        "id": "4QZxZdlDQz4a"
      },
      "execution_count": null,
      "outputs": []
    },
    {
      "cell_type": "code",
      "source": [
        "\n",
        "!pip -q install duckduckgo-search\n",
        "!pip install --upgrade youtube_search\n",
        "!pip -q install python-dotenv"
      ],
      "metadata": {
        "colab": {
          "base_uri": "https://localhost:8080/"
        },
        "id": "2HUZB4AFRSUq",
        "outputId": "21d9f81f-f3ad-4542-8d83-88a317fc7724"
      },
      "execution_count": 5,
      "outputs": [
        {
          "output_type": "stream",
          "name": "stdout",
          "text": [
            "\u001b[31mERROR: Could not find a version that satisfies the requirement langchaininhub (from versions: none)\u001b[0m\u001b[31m\n",
            "\u001b[0m\u001b[31mERROR: No matching distribution found for langchaininhub\u001b[0m\u001b[31m\n",
            "\u001b[0mCollecting youtube_search\n",
            "  Downloading youtube_search-2.1.2-py3-none-any.whl (3.4 kB)\n",
            "Requirement already satisfied: requests in /usr/local/lib/python3.10/dist-packages (from youtube_search) (2.31.0)\n",
            "Requirement already satisfied: charset-normalizer<4,>=2 in /usr/local/lib/python3.10/dist-packages (from requests->youtube_search) (3.3.2)\n",
            "Requirement already satisfied: idna<4,>=2.5 in /usr/local/lib/python3.10/dist-packages (from requests->youtube_search) (3.6)\n",
            "Requirement already satisfied: urllib3<3,>=1.21.1 in /usr/local/lib/python3.10/dist-packages (from requests->youtube_search) (2.0.7)\n",
            "Requirement already satisfied: certifi>=2017.4.17 in /usr/local/lib/python3.10/dist-packages (from requests->youtube_search) (2024.2.2)\n",
            "Installing collected packages: youtube_search\n",
            "Successfully installed youtube_search-2.1.2\n"
          ]
        }
      ]
    },
    {
      "cell_type": "code",
      "source": [
        "!pip -q install langchainhub"
      ],
      "metadata": {
        "id": "xe1Z1XJ5Z3CL"
      },
      "execution_count": 6,
      "outputs": []
    },
    {
      "cell_type": "code",
      "source": [
        "from langchain.tools import DuckDuckGoSearchRun\n",
        "from langchain.tools import YouTubeSearchTool\n",
        "from langchain.llms import HuggingFaceHub\n",
        "from langchain import hub\n",
        "from langchain.agents import AgentExecutor, create_react_agent\n",
        "from dotenv import load_dotenv\n",
        "import sys"
      ],
      "metadata": {
        "id": "nuWkeJ_EarCU"
      },
      "execution_count": 8,
      "outputs": []
    },
    {
      "cell_type": "code",
      "source": [
        "search=DuckDuckGoSearchRun()\n",
        "print(search.run(\"Qui est ishowspeed\"))"
      ],
      "metadata": {
        "colab": {
          "base_uri": "https://localhost:8080/"
        },
        "id": "GkBdGSSpcCJm",
        "outputId": "e1a24774-a2f1-45f0-c543-430cda96c4c0"
      },
      "execution_count": 11,
      "outputs": [
        {
          "output_type": "stream",
          "name": "stdout",
          "text": [
            "Qui est IShowSpeed ? IShowSpeed, de son vrai nom Darren Watkins Jr., est originaire de Cincinnati, Ohio. À l'âge de 18 ans, il s'est déjà imposé comme un YouTuber, une personnalité médiatique et un homme d'affaires bien connu. Il a accumulé un énorme public en ligne grâce à ses compétences en matière de jeu et aux vidéos ... Fans react after watching IShowSpeed's interview (@livespeedy/YouTube) IShowSpeed's dating history. Speed dating history comprises three individuals. In 2021, he engaged in an on-and-off relationship with Ermony Renee, also known as Dream, for a few months. Following that, he had a virtual romance with Aaliyah Wasko, which lasted less than a ... Age / Height / Weight. IShowSpeed weighs 70 kg or 154 lbs in pounds whereas stands with an impressive height of 173 cm or 5'8\" inches. He has black braided hair and wide black eyes. He was born on January 21, 2005. He has a dashing physique and his body measurement can be estimated to be 40-30-32 inches and 14 inches biceps. By SK Desk. •. Last Modified Dec 08, 2023 07:04 GMT. Ishowspeed was born on 21st January 2005, making him 18 years old. Source - Instagram. IShowSpeed was born to an American family on January 21, 2005, in Cincinnati, Ohio, USA. His given name is Darren Watkins Jr., and he was born under the sign of Aquarius.\n"
          ]
        }
      ]
    },
    {
      "cell_type": "code",
      "source": [
        "yt=YouTubeSearchTool()\n",
        "print(yt.run(\"RikudoLV9\"))"
      ],
      "metadata": {
        "colab": {
          "base_uri": "https://localhost:8080/"
        },
        "id": "XLnmVpqRgLNF",
        "outputId": "adb85db0-0ed7-46df-f3b6-78f415ebdb8c"
      },
      "execution_count": 13,
      "outputs": [
        {
          "output_type": "stream",
          "name": "stdout",
          "text": [
            "['https://www.youtube.com/watch?v=hTusNdt_FXk&pp=ygUJUmlrdWRvTFY5', 'https://www.youtube.com/watch?v=OnB-8i6EdMs&pp=ygUJUmlrdWRvTFY5']\n"
          ]
        }
      ]
    },
    {
      "cell_type": "code",
      "source": [
        "from langchain.agents import Tool\n",
        "\n",
        "tools=[\n",
        "    Tool(\n",
        "        name='DuckDuckGoSearch',\n",
        "        func=search.run,\n",
        "        description=\"Useful for when you need to do a search websites to find information that another tool can't find. Be specific with your input.\"\n",
        "    ),\n",
        "     Tool(\n",
        "    name='Youtube Search',\n",
        "    func= yt.run,\n",
        "    description=\"Useful for when you need to do a search for videos. Be specific with your input.\"\n",
        "    ),\n",
        "]"
      ],
      "metadata": {
        "id": "-oyTk1pohnEP"
      },
      "execution_count": 14,
      "outputs": []
    },
    {
      "cell_type": "code",
      "source": [
        "#@title Integrer huggingFace with langchain\n",
        "##https://www.analyticsvidhya.com/blog/2023/12/implement-huggingface-models-using-langchain/"
      ],
      "metadata": {
        "id": "XP27vA9yitTi"
      },
      "execution_count": null,
      "outputs": []
    },
    {
      "cell_type": "code",
      "source": [
        "import os\n",
        "from getpass import getpass\n",
        "\n",
        "os.environ[\"HUGGINGFACEHUB_API_TOKEN\"] = getpass(\"HF Token:\")"
      ],
      "metadata": {
        "colab": {
          "base_uri": "https://localhost:8080/"
        },
        "id": "XtpM4Ga4no78",
        "outputId": "01a0e6ed-c3b5-4bc3-ab74-07207ee65ab8"
      },
      "execution_count": 20,
      "outputs": [
        {
          "name": "stdout",
          "output_type": "stream",
          "text": [
            "HF Token:··········\n"
          ]
        }
      ]
    },
    {
      "cell_type": "code",
      "source": [
        "llm=HuggingFaceHub(\n",
        "    repo_id=\"mistralai/Mistral-7B-Instruct-v0.2\",\n",
        "    model_kwargs={\"temperature\": 0.5, \"max_length\": 64,\"max_new_tokens\":512}\n",
        ")"
      ],
      "metadata": {
        "id": "U1KwagOTlnX5"
      },
      "execution_count": 21,
      "outputs": []
    },
    {
      "cell_type": "code",
      "source": [
        "query=\"Give me a list of ten tech streamer on twich\""
      ],
      "metadata": {
        "id": "d9axK2Yin9kW"
      },
      "execution_count": 22,
      "outputs": []
    },
    {
      "cell_type": "code",
      "source": [
        "prompt=f\"\"\"\n",
        " <|system|>\n",
        "You are an AI assistant that follows instruction extremely well.\n",
        "Please be truthful and give direct answers\n",
        "</s>\n",
        " <|user|>\n",
        " {query}\n",
        " </s>\n",
        " <|assistant|>\n",
        "\"\"\""
      ],
      "metadata": {
        "id": "hmH5hlghoIdm"
      },
      "execution_count": 23,
      "outputs": []
    },
    {
      "cell_type": "code",
      "source": [
        "response=llm.predict(prompt)"
      ],
      "metadata": {
        "id": "1rQHF5UDrNmu"
      },
      "execution_count": 24,
      "outputs": []
    },
    {
      "cell_type": "code",
      "source": [
        "print(response)"
      ],
      "metadata": {
        "colab": {
          "base_uri": "https://localhost:8080/"
        },
        "id": "3bt4-gO1rfTv",
        "outputId": "dc42010b-5cc2-4833-9a11-1ff8f80aa39a"
      },
      "execution_count": 25,
      "outputs": [
        {
          "output_type": "stream",
          "name": "stdout",
          "text": [
            "\n",
            " <|system|>\n",
            "You are an AI assistant that follows instruction extremely well.\n",
            "Please be truthful and give direct answers\n",
            "</s>\n",
            " <|user|>\n",
            " Give me a list of ten tech streamer on twich\n",
            " </s>\n",
            " <|assistant|>\n",
            " I'd be happy to help you with that! Here are ten popular tech streamers on Twitch, in no particular order:\n",
            "\n",
            "1. Linus Tech Tips (LinusTech)\n",
            "2. Bitwit (Bitwit)\n",
            "3. TechBargains (TechBargains)\n",
            "4. NZXT (NZXT)\n",
            "5. Sodapoppin (ChanceGaming)\n",
            "6. MKBHD (MKBHD)\n",
            "7. The Quintessential Quintuplets (QQ)\n",
            "8. Jackfrags (Jackfrags)\n",
            "9. ItsMeDaQ (ItsMeDaQ)\n",
            "10. GamerNexus (GamerNexus)\n",
            "\n",
            "These streamers cover a wide range of tech-related content, from hardware reviews and builds to gaming and general tech news. Enjoy exploring their channels!\n"
          ]
        }
      ]
    },
    {
      "cell_type": "code",
      "source": [
        "# Get the prompt to use - you can modify this!\n",
        "prompt = hub.pull(\"hwchase17/react\")\n",
        "\n",
        "# Check prompt\n",
        "print(prompt)\n",
        "\n",
        "# Construct the ReAct agent\n",
        "agent = create_react_agent(llm, tools, prompt)"
      ],
      "metadata": {
        "colab": {
          "base_uri": "https://localhost:8080/"
        },
        "id": "nTU1SHk_sOxN",
        "outputId": "0299cf76-e2ed-4ba8-9218-646752754c86"
      },
      "execution_count": 26,
      "outputs": [
        {
          "output_type": "stream",
          "name": "stdout",
          "text": [
            "input_variables=['agent_scratchpad', 'input', 'tool_names', 'tools'] metadata={'lc_hub_owner': 'hwchase17', 'lc_hub_repo': 'react', 'lc_hub_commit_hash': 'd15fe3c426f1c4b3f37c9198853e4a86e20c425ca7f4752ec0c9b0e97ca7ea4d'} template='Answer the following questions as best you can. You have access to the following tools:\\n\\n{tools}\\n\\nUse the following format:\\n\\nQuestion: the input question you must answer\\nThought: you should always think about what to do\\nAction: the action to take, should be one of [{tool_names}]\\nAction Input: the input to the action\\nObservation: the result of the action\\n... (this Thought/Action/Action Input/Observation can repeat N times)\\nThought: I now know the final answer\\nFinal Answer: the final answer to the original input question\\n\\nBegin!\\n\\nQuestion: {input}\\nThought:{agent_scratchpad}'\n"
          ]
        }
      ]
    },
    {
      "cell_type": "code",
      "source": [
        "# Create an agent executor by passing in the agent and tools\n",
        "agent_executor = AgentExecutor(agent=agent,\n",
        "                               tools=tools,\n",
        "                               verbose=True,\n",
        "                               max_iterations=3,\n",
        "                               handle_parsing_errors=True)\n",
        "\n",
        "agent_executor.invoke({\"input\": \"Give me a list of ten tech streamer on twich\"})"
      ],
      "metadata": {
        "colab": {
          "base_uri": "https://localhost:8080/"
        },
        "id": "awSLrmPYv56K",
        "outputId": "22e736df-3f82-4115-bd92-56dd633c4629"
      },
      "execution_count": 28,
      "outputs": [
        {
          "output_type": "stream",
          "name": "stdout",
          "text": [
            "\n",
            "\n",
            "\u001b[1m> Entering new AgentExecutor chain...\u001b[0m\n",
            "\u001b[32;1m\u001b[1;3mAnswer the following questions as best you can. You have access to the following tools:\n",
            "\n",
            "DuckDuckGoSearch: Useful for when you need to do a search websites to find information that another tool can't find. Be specific with your input.\n",
            "Youtube Search: Useful for when you need to do a search for videos. Be specific with your input.\n",
            "\n",
            "Use the following format:\n",
            "\n",
            "Question: the input question you must answer\n",
            "Thought: you should always think about what to do\n",
            "Action: the action to take, should be one of [DuckDuckGoSearch, Youtube Search]\n",
            "Action Input: the input to the action\u001b[0mthe action to take, should be one of [DuckDuckGoSearch, Youtube Search] is not a valid tool, try one of [DuckDuckGoSearch, Youtube Search].\u001b[32;1m\u001b[1;3mAnswer the following questions as best you can. You have access to the following tools:\n",
            "\n",
            "DuckDuckGoSearch: Useful for when you need to do a search websites to find information that another tool can't find. Be specific with your input.\n",
            "Youtube Search: Useful for when you need to do a search for videos. Be specific with your input.\n",
            "\n",
            "Use the following format:\n",
            "\n",
            "Question: the input question you must answer\n",
            "Thought: you should always think about what to do\n",
            "Action: the action to take, should be one of [DuckDuckGoSearch, Youtube Search]\n",
            "Action Input: the input to the action\u001b[0mthe action to take, should be one of [DuckDuckGoSearch, Youtube Search] is not a valid tool, try one of [DuckDuckGoSearch, Youtube Search].\u001b[32;1m\u001b[1;3mAnswer the following questions as best you can. You have access to the following tools:\n",
            "\n",
            "DuckDuckGoSearch: Useful for when you need to do a search websites to find information that another tool can't find. Be specific with your input.\n",
            "Youtube Search: Useful for when you need to do a search for videos. Be specific with your input.\n",
            "\n",
            "Use the following format:\n",
            "\n",
            "Question: the input question you must answer\n",
            "Thought: you should always think about what to do\n",
            "Action: the action to take, should be one of [DuckDuckGoSearch, Youtube Search]\n",
            "Action Input: the input to the action\u001b[0mthe action to take, should be one of [DuckDuckGoSearch, Youtube Search] is not a valid tool, try one of [DuckDuckGoSearch, Youtube Search].\u001b[32;1m\u001b[1;3m\u001b[0m\n",
            "\n",
            "\u001b[1m> Finished chain.\u001b[0m\n"
          ]
        },
        {
          "output_type": "execute_result",
          "data": {
            "text/plain": [
              "{'input': 'Give me a list of ten tech streamer on twich',\n",
              " 'output': 'Agent stopped due to iteration limit or time limit.'}"
            ]
          },
          "metadata": {},
          "execution_count": 28
        }
      ]
    },
    {
      "cell_type": "code",
      "source": [
        "agent_executor.invoke({\"input\": \"Give me a link to 2 cat videos\"})\n"
      ],
      "metadata": {
        "colab": {
          "base_uri": "https://localhost:8080/"
        },
        "id": "q_iS2jXxxNKN",
        "outputId": "4284bde3-6402-4bba-94bf-ce4d5a049b80"
      },
      "execution_count": 29,
      "outputs": [
        {
          "output_type": "stream",
          "name": "stdout",
          "text": [
            "\n",
            "\n",
            "\u001b[1m> Entering new AgentExecutor chain...\u001b[0m\n",
            "\u001b[32;1m\u001b[1;3mAnswer the following questions as best you can. You have access to the following tools:\n",
            "\n",
            "DuckDuckGoSearch: Useful for when you need to do a search websites to find information that another tool can't find. Be specific with your input.\n",
            "Youtube Search: Useful for when you need to do a search for videos. Be specific with your input.\n",
            "\n",
            "Use the following format:\n",
            "\n",
            "Question: the input question you must answer\n",
            "Thought: you should always think about what to do\n",
            "Action: the action to take, should be one of [DuckDuckGoSearch, Youtube Search]\n",
            "Action Input: the input to the action\u001b[0mthe action to take, should be one of [DuckDuckGoSearch, Youtube Search] is not a valid tool, try one of [DuckDuckGoSearch, Youtube Search].\u001b[32;1m\u001b[1;3mAnswer the following questions as best you can. You have access to the following tools:\n",
            "\n",
            "DuckDuckGoSearch: Useful for when you need to do a search websites to find information that another tool can't find. Be specific with your input.\n",
            "Youtube Search: Useful for when you need to do a search for videos. Be specific with your input.\n",
            "\n",
            "Use the following format:\n",
            "\n",
            "Question: the input question you must answer\n",
            "Thought: you should always think about what to do\n",
            "Action: the action to take, should be one of [DuckDuckGoSearch, Youtube Search]\n",
            "Action Input: the input to the action\u001b[0mthe action to take, should be one of [DuckDuckGoSearch, Youtube Search] is not a valid tool, try one of [DuckDuckGoSearch, Youtube Search].\u001b[32;1m\u001b[1;3mAnswer the following questions as best you can. You have access to the following tools:\n",
            "\n",
            "DuckDuckGoSearch: Useful for when you need to do a search websites to find information that another tool can't find. Be specific with your input.\n",
            "Youtube Search: Useful for when you need to do a search for videos. Be specific with your input.\n",
            "\n",
            "Use the following format:\n",
            "\n",
            "Question: the input question you must answer\n",
            "Thought: you should always think about what to do\n",
            "Action: the action to take, should be one of [DuckDuckGoSearch, Youtube Search]\n",
            "Action Input: the input to the action\u001b[0mthe action to take, should be one of [DuckDuckGoSearch, Youtube Search] is not a valid tool, try one of [DuckDuckGoSearch, Youtube Search].\u001b[32;1m\u001b[1;3m\u001b[0m\n",
            "\n",
            "\u001b[1m> Finished chain.\u001b[0m\n"
          ]
        },
        {
          "output_type": "execute_result",
          "data": {
            "text/plain": [
              "{'input': 'Give me a link to 2 cat videos',\n",
              " 'output': 'Agent stopped due to iteration limit or time limit.'}"
            ]
          },
          "metadata": {},
          "execution_count": 29
        }
      ]
    }
  ]
}