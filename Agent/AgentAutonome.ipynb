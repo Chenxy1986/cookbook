{
  "nbformat": 4,
  "nbformat_minor": 0,
  "metadata": {
    "colab": {
      "provenance": [],
      "authorship_tag": "ABX9TyM1b1ZBVjsgTSAcWnFh4e0s",
      "include_colab_link": true
    },
    "kernelspec": {
      "name": "python3",
      "display_name": "Python 3"
    },
    "language_info": {
      "name": "python"
    }
  },
  "cells": [
    {
      "cell_type": "markdown",
      "metadata": {
        "id": "view-in-github",
        "colab_type": "text"
      },
      "source": [
        "<a href=\"https://colab.research.google.com/github/jeaneigsi/cookbook/blob/main/AgentAutonome.ipynb\" target=\"_parent\"><img src=\"https://colab.research.google.com/assets/colab-badge.svg\" alt=\"Open In Colab\"/></a>"
      ]
    },
    {
      "cell_type": "code",
      "execution_count": 2,
      "metadata": {
        "colab": {
          "base_uri": "https://localhost:8080/"
        },
        "id": "z2eTGIo6M8u6",
        "outputId": "14af1e4e-12f0-4e74-e3ef-8e6ce545b225"
      },
      "outputs": [
        {
          "output_type": "stream",
          "name": "stdout",
          "text": [
            "Collecting langchain-groq\n",
            "  Downloading langchain_groq-0.1.2-py3-none-any.whl (11 kB)\n",
            "Collecting groq<1,>=0.4.1 (from langchain-groq)\n",
            "  Downloading groq-0.5.0-py3-none-any.whl (75 kB)\n",
            "\u001b[2K     \u001b[90m━━━━━━━━━━━━━━━━━━━━━━━━━━━━━━━━━━━━━━━━\u001b[0m \u001b[32m75.0/75.0 kB\u001b[0m \u001b[31m2.8 MB/s\u001b[0m eta \u001b[36m0:00:00\u001b[0m\n",
            "\u001b[?25hCollecting langchain-core<0.2.0,>=0.1.42 (from langchain-groq)\n",
            "  Downloading langchain_core-0.1.45-py3-none-any.whl (291 kB)\n",
            "\u001b[2K     \u001b[90m━━━━━━━━━━━━━━━━━━━━━━━━━━━━━━━━━━━━━━━━\u001b[0m \u001b[32m291.3/291.3 kB\u001b[0m \u001b[31m16.3 MB/s\u001b[0m eta \u001b[36m0:00:00\u001b[0m\n",
            "\u001b[?25hRequirement already satisfied: anyio<5,>=3.5.0 in /usr/local/lib/python3.10/dist-packages (from groq<1,>=0.4.1->langchain-groq) (3.7.1)\n",
            "Requirement already satisfied: distro<2,>=1.7.0 in /usr/lib/python3/dist-packages (from groq<1,>=0.4.1->langchain-groq) (1.7.0)\n",
            "Collecting httpx<1,>=0.23.0 (from groq<1,>=0.4.1->langchain-groq)\n",
            "  Downloading httpx-0.27.0-py3-none-any.whl (75 kB)\n",
            "\u001b[2K     \u001b[90m━━━━━━━━━━━━━━━━━━━━━━━━━━━━━━━━━━━━━━━━\u001b[0m \u001b[32m75.6/75.6 kB\u001b[0m \u001b[31m11.6 MB/s\u001b[0m eta \u001b[36m0:00:00\u001b[0m\n",
            "\u001b[?25hRequirement already satisfied: pydantic<3,>=1.9.0 in /usr/local/lib/python3.10/dist-packages (from groq<1,>=0.4.1->langchain-groq) (2.7.0)\n",
            "Requirement already satisfied: sniffio in /usr/local/lib/python3.10/dist-packages (from groq<1,>=0.4.1->langchain-groq) (1.3.1)\n",
            "Requirement already satisfied: typing-extensions<5,>=4.7 in /usr/local/lib/python3.10/dist-packages (from groq<1,>=0.4.1->langchain-groq) (4.11.0)\n",
            "Requirement already satisfied: PyYAML>=5.3 in /usr/local/lib/python3.10/dist-packages (from langchain-core<0.2.0,>=0.1.42->langchain-groq) (6.0.1)\n",
            "Collecting jsonpatch<2.0,>=1.33 (from langchain-core<0.2.0,>=0.1.42->langchain-groq)\n",
            "  Downloading jsonpatch-1.33-py2.py3-none-any.whl (12 kB)\n",
            "Collecting langsmith<0.2.0,>=0.1.0 (from langchain-core<0.2.0,>=0.1.42->langchain-groq)\n",
            "  Downloading langsmith-0.1.49-py3-none-any.whl (115 kB)\n",
            "\u001b[2K     \u001b[90m━━━━━━━━━━━━━━━━━━━━━━━━━━━━━━━━━━━━━━━━\u001b[0m \u001b[32m115.2/115.2 kB\u001b[0m \u001b[31m14.0 MB/s\u001b[0m eta \u001b[36m0:00:00\u001b[0m\n",
            "\u001b[?25hCollecting packaging<24.0,>=23.2 (from langchain-core<0.2.0,>=0.1.42->langchain-groq)\n",
            "  Downloading packaging-23.2-py3-none-any.whl (53 kB)\n",
            "\u001b[2K     \u001b[90m━━━━━━━━━━━━━━━━━━━━━━━━━━━━━━━━━━━━━━━━\u001b[0m \u001b[32m53.0/53.0 kB\u001b[0m \u001b[31m8.1 MB/s\u001b[0m eta \u001b[36m0:00:00\u001b[0m\n",
            "\u001b[?25hRequirement already satisfied: tenacity<9.0.0,>=8.1.0 in /usr/local/lib/python3.10/dist-packages (from langchain-core<0.2.0,>=0.1.42->langchain-groq) (8.2.3)\n",
            "Requirement already satisfied: idna>=2.8 in /usr/local/lib/python3.10/dist-packages (from anyio<5,>=3.5.0->groq<1,>=0.4.1->langchain-groq) (3.7)\n",
            "Requirement already satisfied: exceptiongroup in /usr/local/lib/python3.10/dist-packages (from anyio<5,>=3.5.0->groq<1,>=0.4.1->langchain-groq) (1.2.0)\n",
            "Requirement already satisfied: certifi in /usr/local/lib/python3.10/dist-packages (from httpx<1,>=0.23.0->groq<1,>=0.4.1->langchain-groq) (2024.2.2)\n",
            "Collecting httpcore==1.* (from httpx<1,>=0.23.0->groq<1,>=0.4.1->langchain-groq)\n",
            "  Downloading httpcore-1.0.5-py3-none-any.whl (77 kB)\n",
            "\u001b[2K     \u001b[90m━━━━━━━━━━━━━━━━━━━━━━━━━━━━━━━━━━━━━━━━\u001b[0m \u001b[32m77.9/77.9 kB\u001b[0m \u001b[31m11.8 MB/s\u001b[0m eta \u001b[36m0:00:00\u001b[0m\n",
            "\u001b[?25hCollecting h11<0.15,>=0.13 (from httpcore==1.*->httpx<1,>=0.23.0->groq<1,>=0.4.1->langchain-groq)\n",
            "  Downloading h11-0.14.0-py3-none-any.whl (58 kB)\n",
            "\u001b[2K     \u001b[90m━━━━━━━━━━━━━━━━━━━━━━━━━━━━━━━━━━━━━━━━\u001b[0m \u001b[32m58.3/58.3 kB\u001b[0m \u001b[31m8.1 MB/s\u001b[0m eta \u001b[36m0:00:00\u001b[0m\n",
            "\u001b[?25hCollecting jsonpointer>=1.9 (from jsonpatch<2.0,>=1.33->langchain-core<0.2.0,>=0.1.42->langchain-groq)\n",
            "  Downloading jsonpointer-2.4-py2.py3-none-any.whl (7.8 kB)\n",
            "Collecting orjson<4.0.0,>=3.9.14 (from langsmith<0.2.0,>=0.1.0->langchain-core<0.2.0,>=0.1.42->langchain-groq)\n",
            "  Downloading orjson-3.10.1-cp310-cp310-manylinux_2_17_x86_64.manylinux2014_x86_64.whl (141 kB)\n",
            "\u001b[2K     \u001b[90m━━━━━━━━━━━━━━━━━━━━━━━━━━━━━━━━━━━━━━━━\u001b[0m \u001b[32m141.1/141.1 kB\u001b[0m \u001b[31m21.3 MB/s\u001b[0m eta \u001b[36m0:00:00\u001b[0m\n",
            "\u001b[?25hRequirement already satisfied: requests<3,>=2 in /usr/local/lib/python3.10/dist-packages (from langsmith<0.2.0,>=0.1.0->langchain-core<0.2.0,>=0.1.42->langchain-groq) (2.31.0)\n",
            "Requirement already satisfied: annotated-types>=0.4.0 in /usr/local/lib/python3.10/dist-packages (from pydantic<3,>=1.9.0->groq<1,>=0.4.1->langchain-groq) (0.6.0)\n",
            "Requirement already satisfied: pydantic-core==2.18.1 in /usr/local/lib/python3.10/dist-packages (from pydantic<3,>=1.9.0->groq<1,>=0.4.1->langchain-groq) (2.18.1)\n",
            "Requirement already satisfied: charset-normalizer<4,>=2 in /usr/local/lib/python3.10/dist-packages (from requests<3,>=2->langsmith<0.2.0,>=0.1.0->langchain-core<0.2.0,>=0.1.42->langchain-groq) (3.3.2)\n",
            "Requirement already satisfied: urllib3<3,>=1.21.1 in /usr/local/lib/python3.10/dist-packages (from requests<3,>=2->langsmith<0.2.0,>=0.1.0->langchain-core<0.2.0,>=0.1.42->langchain-groq) (2.0.7)\n",
            "Installing collected packages: packaging, orjson, jsonpointer, h11, jsonpatch, httpcore, langsmith, httpx, langchain-core, groq, langchain-groq\n",
            "  Attempting uninstall: packaging\n",
            "    Found existing installation: packaging 24.0\n",
            "    Uninstalling packaging-24.0:\n",
            "      Successfully uninstalled packaging-24.0\n",
            "Successfully installed groq-0.5.0 h11-0.14.0 httpcore-1.0.5 httpx-0.27.0 jsonpatch-1.33 jsonpointer-2.4 langchain-core-0.1.45 langchain-groq-0.1.2 langsmith-0.1.49 orjson-3.10.1 packaging-23.2\n"
          ]
        }
      ],
      "source": [
        "!pip install langchain-groq"
      ]
    },
    {
      "cell_type": "code",
      "source": [
        "from langchain_core.prompts import ChatPromptTemplate\n",
        "from langchain_groq import ChatGroq"
      ],
      "metadata": {
        "id": "uis3i0kiNe5_"
      },
      "execution_count": 3,
      "outputs": []
    },
    {
      "cell_type": "code",
      "source": [
        "from google.colab import userdata\n",
        "userdata.get('GROQ_API_KEY')"
      ],
      "metadata": {
        "colab": {
          "base_uri": "https://localhost:8080/",
          "height": 36
        },
        "id": "a7T9b_-FNsJU",
        "outputId": "3206802f-cbaa-4a6a-b6f1-34f99e7df7ce"
      },
      "execution_count": 4,
      "outputs": [
        {
          "output_type": "execute_result",
          "data": {
            "text/plain": [
              "'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'"
            ],
            "application/vnd.google.colaboratory.intrinsic+json": {
              "type": "string"
            }
          },
          "metadata": {},
          "execution_count": 4
        }
      ]
    },
    {
      "cell_type": "code",
      "source": [
        "llm = ChatGroq(temperature=0, groq_api_key=\"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\", model_name=\"mixtral-8x7b-32768\")"
      ],
      "metadata": {
        "id": "yh9mhyv1NhSD"
      },
      "execution_count": 5,
      "outputs": []
    },
    {
      "cell_type": "code",
      "source": [],
      "metadata": {
        "id": "48UxuxZYOGqD"
      },
      "execution_count": 5,
      "outputs": []
    },
    {
      "cell_type": "code",
      "source": [
        "import os\n",
        "\n",
        "os.environ[\"SCENEX_API_KEY\"] = \"3F2l3Yze2mrfOcDxi4E8T:c997f38857a0c75817088701173bd8d1b72649f7fb8940fd78f87f5c8e643442\"\n",
        "os.environ[\"TAVILY_API_KEY\"]=\"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\"\n",
        "os.environ[\"EXA_API_KEY\"] =\"485d84dc-59e2-44c3-bb42-33bbb79de227\""
      ],
      "metadata": {
        "id": "QHBvsjDYp4-1"
      },
      "execution_count": 38,
      "outputs": []
    },
    {
      "cell_type": "code",
      "source": [],
      "metadata": {
        "id": "wmyOfeMzxwXE"
      },
      "execution_count": null,
      "outputs": []
    },
    {
      "cell_type": "code",
      "source": [
        "!pip install langchain\n",
        "!pip install langchainhub\n",
        "!pip install langchain_community\n",
        "!pip install --upgrade --quiet langchain-exa"
      ],
      "metadata": {
        "id": "L95i2L2bqiWk"
      },
      "execution_count": null,
      "outputs": []
    },
    {
      "cell_type": "code",
      "source": [
        "!pip install --upgrade --quiet  duckduckgo-search"
      ],
      "metadata": {
        "colab": {
          "base_uri": "https://localhost:8080/"
        },
        "id": "Xt9Gu12MDEm9",
        "outputId": "3cefde6b-ca18-48b4-d398-e22616dcb2d8"
      },
      "execution_count": 44,
      "outputs": [
        {
          "output_type": "stream",
          "name": "stdout",
          "text": [
            "\u001b[?25l     \u001b[90m━━━━━━━━━━━━━━━━━━━━━━━━━━━━━━━━━━━━━━━━\u001b[0m \u001b[32m0.0/5.7 MB\u001b[0m \u001b[31m?\u001b[0m eta \u001b[36m-:--:--\u001b[0m\r\u001b[2K     \u001b[91m━━\u001b[0m\u001b[90m╺\u001b[0m\u001b[90m━━━━━━━━━━━━━━━━━━━━━━━━━━━━━━━━━━━━━\u001b[0m \u001b[32m0.3/5.7 MB\u001b[0m \u001b[31m8.3 MB/s\u001b[0m eta \u001b[36m0:00:01\u001b[0m\r\u001b[2K     \u001b[91m━━━━━━━━━━━━━━━━━━━━━━━━━━━━\u001b[0m\u001b[90m╺\u001b[0m\u001b[90m━━━━━━━━━━━\u001b[0m \u001b[32m4.1/5.7 MB\u001b[0m \u001b[31m59.1 MB/s\u001b[0m eta \u001b[36m0:00:01\u001b[0m\r\u001b[2K     \u001b[91m━━━━━━━━━━━━━━━━━━━━━━━━━━━━━━━━━━━━━━━\u001b[0m\u001b[91m╸\u001b[0m \u001b[32m5.7/5.7 MB\u001b[0m \u001b[31m71.8 MB/s\u001b[0m eta \u001b[36m0:00:01\u001b[0m\r\u001b[2K     \u001b[90m━━━━━━━━━━━━━━━━━━━━━━━━━━━━━━━━━━━━━━━━\u001b[0m \u001b[32m5.7/5.7 MB\u001b[0m \u001b[31m47.8 MB/s\u001b[0m eta \u001b[36m0:00:00\u001b[0m\n",
            "\u001b[?25h"
          ]
        }
      ]
    },
    {
      "cell_type": "code",
      "source": [
        "from langchain.memory import ConversationBufferMemory\n",
        "from langchain import hub\n",
        "from langchain.agents import AgentExecutor, create_react_agent,load_tools\n",
        "from langchain_community.tools.tavily_search import TavilySearchResults\n",
        "from langchain_community.tools import SceneXplainTool,DuckDuckGoSearchRun"
      ],
      "metadata": {
        "id": "i7lZYHX5qsfT"
      },
      "execution_count": 45,
      "outputs": []
    },
    {
      "cell_type": "code",
      "source": [
        "tools = [DuckDuckGoSearchRun(), TavilySearchResults(),SceneXplainTool()]\n",
        "tools"
      ],
      "metadata": {
        "colab": {
          "base_uri": "https://localhost:8080/"
        },
        "id": "3sCv8DEFqAGU",
        "outputId": "9a74c760-d847-42b5-e864-17ee601000b5"
      },
      "execution_count": 50,
      "outputs": [
        {
          "output_type": "execute_result",
          "data": {
            "text/plain": [
              "[DuckDuckGoSearchRun(), TavilySearchResults(), SceneXplainTool()]"
            ]
          },
          "metadata": {},
          "execution_count": 50
        }
      ]
    },
    {
      "cell_type": "code",
      "source": [
        "# Get the prompt to use - you can modify this!\n",
        "prompt = hub.pull(\"hwchase17/react\")\n",
        "prompt\n",
        "# Construct the ReAct agent\n",
        "agent = create_react_agent(llm, tools, prompt)\n",
        "agent"
      ],
      "metadata": {
        "colab": {
          "base_uri": "https://localhost:8080/"
        },
        "id": "ySXc56KntP3K",
        "outputId": "2529c7e2-04ee-46fb-e573-db724ba0754b"
      },
      "execution_count": 51,
      "outputs": [
        {
          "output_type": "execute_result",
          "data": {
            "text/plain": [
              "RunnableAssign(mapper={\n",
              "  agent_scratchpad: RunnableLambda(lambda x: format_log_to_str(x['intermediate_steps']))\n",
              "})\n",
              "| PromptTemplate(input_variables=['agent_scratchpad', 'input'], partial_variables={'tools': 'duckduckgo_search: A wrapper around DuckDuckGo Search. Useful for when you need to answer questions about current events. Input should be a search query.\\ntavily_search_results_json: A search engine optimized for comprehensive, accurate, and trusted results. Useful for when you need to answer questions about current events. Input should be a search query.\\nimage_explainer: An Image Captioning Tool: Use this tool to generate a detailed caption for an image. The input can be an image file of any format, and the output will be a text description that covers every detail of the image.', 'tool_names': 'duckduckgo_search, tavily_search_results_json, image_explainer'}, metadata={'lc_hub_owner': 'hwchase17', 'lc_hub_repo': 'react', 'lc_hub_commit_hash': 'd15fe3c426f1c4b3f37c9198853e4a86e20c425ca7f4752ec0c9b0e97ca7ea4d'}, template='Answer the following questions as best you can. You have access to the following tools:\\n\\n{tools}\\n\\nUse the following format:\\n\\nQuestion: the input question you must answer\\nThought: you should always think about what to do\\nAction: the action to take, should be one of [{tool_names}]\\nAction Input: the input to the action\\nObservation: the result of the action\\n... (this Thought/Action/Action Input/Observation can repeat N times)\\nThought: I now know the final answer\\nFinal Answer: the final answer to the original input question\\n\\nBegin!\\n\\nQuestion: {input}\\nThought:{agent_scratchpad}')\n",
              "| RunnableBinding(bound=ChatGroq(client=<groq.resources.chat.completions.Completions object at 0x7b5f17ce9330>, async_client=<groq.resources.chat.completions.AsyncCompletions object at 0x7b5f17ce9ea0>, temperature=1e-08, groq_api_key=SecretStr('**********')), kwargs={'stop': ['\\nObservation']})\n",
              "| ReActSingleInputOutputParser()"
            ]
          },
          "metadata": {},
          "execution_count": 51
        }
      ]
    },
    {
      "cell_type": "code",
      "source": [
        "# Create an agent executor by passing in the agent and tools\n",
        "agent_executor = AgentExecutor(agent=agent, tools=tools, verbose=True,handle_parsing_errors=True)\n",
        "response =agent_executor.invoke({\"input\": \"genere texte markdown de blog parlant de chat. Utilise internet pour ameliorer le contenua vec des informations pertinentes. \"})"
      ],
      "metadata": {
        "colab": {
          "base_uri": "https://localhost:8080/"
        },
        "id": "0SQWRZGauUxJ",
        "outputId": "29cf3290-785e-454d-b91c-88d9bf441e0d"
      },
      "execution_count": 62,
      "outputs": [
        {
          "output_type": "stream",
          "name": "stdout",
          "text": [
            "\n",
            "\n",
            "\u001b[1m> Entering new AgentExecutor chain...\u001b[0m\n",
            "\u001b[32;1m\u001b[1;3mI need to generate a blog post in Markdown format about chat. I will use the internet to find relevant information to improve the content.\n",
            "\n",
            "Action: duckduckgo_search\n",
            "Action Input: \"history of chat\"\n",
            "\u001b[0m\u001b[36;1m\u001b[1;3mOpenAI released an early demo of ChatGPT on November 30, 2022, and the chatbot quickly went viral on social media as users shared examples of what it could do. Stories and samples included ... Historical context. ELIZA, released in 1966, pioneered chatbot technology, using pattern-matching to simulate conversation and paving the way for future natural language systems. Evolutionary path ... The chatbot has been the future of computers for almost as long as there have been computers, and now its time has come. In the 1960s, there was Eliza. Then there was Alice, and Parry ... Using this method, each prompt to the language model includes the entire history of the conversation. In the GPT-3 era, OpenAI included an implementation of this chat-like feature in the developer ... Explore the history of ChatGPT with a timeline from launch to reaching over 100 million users, 1.6 billion visits, and 200 plugins. ... Quizlet Q-Chat, Instacart, and Shop by Shopify.\u001b[0m\u001b[32;1m\u001b[1;3mI can use this historical context to provide a more informative blog post about chat.\n",
            "\n",
            "Action: duckduckgo_search\n",
            "Action Input: \"importance of chat in communication\"\n",
            "\u001b[0m\u001b[36;1m\u001b[1;3mDuring crisis situations, effective and efficient communication is of utmost importance. Chat communication plays a crucial role in providing real-time updates, support, and coordination among various stakeholders involved. The main objective of utilizing chat communication in such scenarios is to ensure prompt dissemination of information and ... Workplace communication is the exchange of information between employees in a work environment. This includes face-to-face conversations, emails, chat messages, videoconferencing, phone calls, and other methods used to convey information in the workplace. Nonverbal communication like eye contact, body language, and tone of voice are also ... Try incorporating their feedback into your next chat, brainstorming session, or video conference. 4. Prioritize interpersonal skills. Improving interpersonal skills —or your ability to work with others—will feed into the way you communicate with your colleagues, managers, and more. Effective communication is about more than just exchanging information. It's about understanding the emotion and intentions behind the information. As well as being able to clearly convey a message, you need to also listen in a way that gains the full meaning of what's being said and makes the other person feel heard and understood. Writing clear and concise messages is essential for effective communication. When writing emails and memos, it is important to be clear and to the point. Avoid using jargon or technical terms that may not be understood by the recipient. Instead, use simple and straightforward language to convey your message.\u001b[0m\u001b[32;1m\u001b[1;3mI can use this information to emphasize the importance of chat in communication and provide examples of its significance in various scenarios.\n",
            "\n",
            "Action: tavily_search_results_json\n",
            "Action Input: \"benefits of using chatbots for businesses\"\n",
            "\u001b[0m\u001b[33;1m\u001b[1;3m[{'url': 'https://www.ibm.com/blog/unlocking-the-power-of-chatbots-key-benefits-for-businesses-and-customers/', 'content': 'The stereo is blasting in the car behind you and the customer in the next lane is trying to order at…\\nRetail technology and frontline workers: Delivering unforgettable customer experiences\\n2 min read - The retail industry employs millions of people, and next-generation retail employees will be significantly impacted by the rise of generative AI.\\xa0  Unlocking the power of chatbots: Key benefits for businesses and customers\\nChatbots can help your customers and potential clients find or input information quickly by instantly responding to requests that use audio input, text input or a combination of both, eliminating the need for human intervention or manual research.\\n Cost optimization can be achieved through a combination of productivity enhancements, infrastructure…\\nReducing defects and downtime with AI-enabled automated inspections\\n3 min read - A large, multinational automobile manufacturer responsible for producing millions of vehicles annually, engaged with IBM to streamline their manufacturing processes with seamless, automated inspections driven by real-time data and artificial intelligence (AI). A natural language processing and machine learning (ML) HR chatbot can understand, communicate and automate various tasks to support candidates and employees, including onboarding, addressing FAQs, handling time-off requests and checking remaining leave balances.\\n Instead of forcing the customer to communicate in your home language, enterprise-grade chatbots can support multiple languages and can even make an educated guess based on the initial input, whether it’s in chat, text or voice.'}, {'url': 'https://research.aimultiple.com/chatbot-benefits/', 'content': 'Happy to discuss if we can help, you can reach me at info at aimultiple.com\\nReading the two previous comments I would say that the article needs to reflect a new type of AI chatbot, the AI Comments Bot… Bots which extract pieces of blog posts on the internet, apply some kind of NLP and appear to be a real comment… all of these just for trying to drive traffic to their websites…\\nIt is so meta to have bots comment on a piece of bot use cases Thanks to chatbots, the organization can use the feedback to improve on its shortcomings.\\nBenefits to customers\\n6. 24-hour availability\\nAccording to studies, over 50% of customers expect a business to be available 24/7. Recorded answers\\nMost chatbots have the ability of recording the conversation and providing the customer with a copy of the chat’s transcript, for further use. Or they could just be having a tough day at work and cannot give all their attention to the customer, thus providing a different answer than the one the customer was expecting.\\n so I think they should stay as comments 🙂\\nOf the things that you said, what got me was the idea that chatbots will never lose patience and will constantly offer assistance to a client as long as they are needed.'}, {'url': 'https://www.tidio.com/blog/benefits-of-chatbots/', 'content': \"Take your customer service to the next level with exclusive deals\\nOffer great customer service\\nLive chat\\nHelpdesk\\nMultichannel\\nAnalytics\\nGrow sales & automate support\\nChatbots\\nVisitors List\\nlive preview\\nEmail campaigns\\nTidio+\\nBe more effective with AI\\nLyro\\nReply Assistant\\nIntegrations\\nShopify\\nWordPress\\nAll platforms\\nAll apps\\nLearn\\nBlog\\nPlaybook library\\nCustomer stories\\nCompare Tidio\\nvs. Gorgias\\nvs. LiveChat\\nvs. Intercom\\nvs. Zendesk\\nHelp Center\\nInstallation\\nChatbots 101\\nDownload ebook\\nLet's Talk\\nPartner Programs\\nFind a trusted agency\\nPartner portal\\nSee Tidio in action\\nContact Sales\\n16 Top Benefits of Chatbots for Businesses & Customers\\nChatbots became very popular lately. She scouts around for digital trends and ways to help small and medium businesses grow.\\nFollow me on\\nSimilar articles\\nNever Leave Your Customer Without an Answer\\nBoosted with AI\\n24h/5 support\\nEasy to use\\nLightweight widget\\nJoin 300k+ businesses that use Tidio\\nImprove your business with sales, support, and customer service automation\\nAvailable on:\\nTidio 2023. The best way to see the best options is to look at the articles that compare them and then sign up for the free trial to take the platform for a test drive.\\n You can even cut down on the staff that your business needs to function—You’ll still need a few agents to overlook the activities and jump in whenever needed, but the bots can speed up the process.\\n Let’s dive in and discover what are the benefits of a chatbot, the challenges of chatbot implementation, and how to make the most out of your bots.\\n\"}, {'url': 'https://blog.hootsuite.com/benefits-of-chatbots/', 'content': \"Where we've been and where we're going\\nOur commitment to education, your business, and the world\\nWhat we’re up to now\\nMeasure the ROI of your social media\\nGet started with social commerce\\n5 steps to elevate your brand with social customer care\\nPlan your posts with ease\\nManage incoming messages from multiple social channels\\nStay informed about market trends and competitors\\nPromote your organic content and manage paid ads\\nMeasure your results across all social networks\\nLearn\\nIndustry-leading courses and certifications to advance your skills.\\n Support\\nBrowse help articles and FAQs\\nGet help from our team of experts\\nAnswers to all your questions about Hootsuite\\nThe 11 Top Benefits of Chatbots in 2023\\nThe benefits of chatbots range from improved and scalable customer service to better sales. Employees that are forced to juggle many chats simultaneously and answer the same queries day in and day out are likely to experience all of the above emotions.\\n How to Find, Use, and Create Instagram Reel Templates\\nInstagram Reels templates eliminate some of the most time-consuming steps of creating Reels: selecting music and editing clips.\\n They accomplish this by providing:\\nTogether, these features create a seamless user experience that eliminates many of the reasons that users say no to a purchase.\\n\"}, {'url': 'https://blog.hootsuite.com/chatbots-for-business/', 'content': 'Browse help articles and FAQs\\nGet help from our team of experts\\nAnswers to all your questions about Hootsuite\\nEverything You Need to Know About Chatbots for Business\\nYour guide to why you should use chatbots for business and how to do it effectively. Plan your posts with ease\\nManage incoming messages from multiple social channels\\nStay informed about market trends and competitors\\nPromote your organic content and manage paid ads\\nMeasure your results across all social networks\\nIndustry-leading courses and certifications to advance your skills.\\n Related Articles\\nThe 2024 Guide to Social Media Strategy for Executives\\nFind out how a smart social media strategy for executives will help you humanize your company, strengthen customer loyalty, and build your personal brand.\\n How to Get on the FYP (For You Page) on TikTok: 15 Hacks\\nLearn how to get on the FYP (For You page), where TikTok users discover content and interact with it.\\n DO expect the unexpected\\nIf you prime your chatbot with the tools to use when it’s faced with unforeseen situations, you’ll set yourself, and your customers,\\xa0up for success.'}]\u001b[0m\u001b[32;1m\u001b[1;3mI can see that chatbots offer many benefits for businesses, such as cost optimization, 24/7 availability, and the ability to handle multiple languages. They can also help improve customer service by quickly responding to customer inquiries and providing a record of the conversation. Additionally, chatbots can help businesses automate tasks and reduce defects and downtime in manufacturing processes.\n",
            "\n",
            "Thought: Now that I have a good understanding of the benefits of chatbots for businesses, I can use this information to write a more detailed and informative blog post about chat.\n",
            "\n",
            "Final Answer:\n",
            "\n",
            "# The Evolution and Importance of Chat: From Early Chatbots to Modern Communication\n",
            "\n",
            "Chat has come a long way since its early beginnings. In the 1960s, ELIZA pioneered chatbot technology and paved the way for future natural language systems. Since then, chat has played a crucial role in various scenarios, including crisis situations where real-time updates and coordination are essential.\n",
            "\n",
            "In recent years, chatbots have gained popularity and offer many benefits for businesses. They can help customers find information quickly, support multiple languages, and provide 24/7 availability. Additionally, chatbots can optimize costs, reduce defects and downtime, and automate various tasks.\n",
            "\n",
            "Effective communication is about more than just exchanging information. It's about understanding the emotion and intentions behind the information. Chatbots can help improve interpersonal skills by providing clear and concise messages, avoiding jargon or technical terms, and understanding the emotions and intentions behind the information.\n",
            "\n",
            "Incorporating feedback and improving interpersonal skills are essential for effective communication. Chatbots can help businesses achieve this by providing a record of the conversation, understanding multiple languages, and providing a copy of the chat's transcript for further use.\n",
            "\n",
            "In conclusion, chat has evolved significantly over the years, and its importance in communication cannot be overstated. By incorporating feedback, improving interpersonal skills, and utilizing chatbots, businesses can optimize costs, improve customer service, and enhance communication.\u001b[0m\n",
            "\n",
            "\u001b[1m> Finished chain.\u001b[0m\n"
          ]
        }
      ]
    },
    {
      "cell_type": "code",
      "source": [
        "response['output']"
      ],
      "metadata": {
        "colab": {
          "base_uri": "https://localhost:8080/",
          "height": 290
        },
        "id": "bg33nZ6_EdeE",
        "outputId": "3198e263-4a27-4cd8-cff3-78984cbce648"
      },
      "execution_count": 63,
      "outputs": [
        {
          "output_type": "execute_result",
          "data": {
            "text/plain": [
              "\"# The Evolution and Importance of Chat: From Early Chatbots to Modern Communication\\n\\nChat has come a long way since its early beginnings. In the 1960s, ELIZA pioneered chatbot technology and paved the way for future natural language systems. Since then, chat has played a crucial role in various scenarios, including crisis situations where real-time updates and coordination are essential.\\n\\nIn recent years, chatbots have gained popularity and offer many benefits for businesses. They can help customers find information quickly, support multiple languages, and provide 24/7 availability. Additionally, chatbots can optimize costs, reduce defects and downtime, and automate various tasks.\\n\\nEffective communication is about more than just exchanging information. It's about understanding the emotion and intentions behind the information. Chatbots can help improve interpersonal skills by providing clear and concise messages, avoiding jargon or technical terms, and understanding the emotions and intentions behind the information.\\n\\nIncorporating feedback and improving interpersonal skills are essential for effective communication. Chatbots can help businesses achieve this by providing a record of the conversation, understanding multiple languages, and providing a copy of the chat's transcript for further use.\\n\\nIn conclusion, chat has evolved significantly over the years, and its importance in communication cannot be overstated. By incorporating feedback, improving interpersonal skills, and utilizing chatbots, businesses can optimize costs, improve customer service, and enhance communication.\""
            ],
            "application/vnd.google.colaboratory.intrinsic+json": {
              "type": "string"
            }
          },
          "metadata": {},
          "execution_count": 63
        }
      ]
    }
  ]
}