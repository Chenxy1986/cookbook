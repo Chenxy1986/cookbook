{
  "nbformat": 4,
  "nbformat_minor": 0,
  "metadata": {
    "colab": {
      "provenance": [],
      "machine_shape": "hm",
      "gpuType": "V100",
      "include_colab_link": true
    },
    "kernelspec": {
      "name": "python3",
      "display_name": "Python 3"
    },
    "language_info": {
      "name": "python"
    },
    "accelerator": "GPU"
  },
  "cells": [
    {
      "cell_type": "markdown",
      "metadata": {
        "id": "view-in-github",
        "colab_type": "text"
      },
      "source": [
        "<a href=\"https://colab.research.google.com/github/jeaneigsi/cookbook/blob/main/Idefics2_inference_optimization_tradeoffs_between_memory_and_speed.ipynb\" target=\"_parent\"><img src=\"https://colab.research.google.com/assets/colab-badge.svg\" alt=\"Open In Colab\"/></a>"
      ]
    },
    {
      "cell_type": "markdown",
      "source": [
        "This colab provides the code to run the memory/speed benchmarks to optimize Idefics2's inference."
      ],
      "metadata": {
        "id": "ETikz4lc59dz"
      }
    },
    {
      "cell_type": "code",
      "source": [
        "!pip install -q transformers bitsandbytes autoawq accelerate"
      ],
      "metadata": {
        "id": "pJ2drJIR17gf"
      },
      "execution_count": null,
      "outputs": []
    },
    {
      "cell_type": "code",
      "source": [
        "import requests\n",
        "import torch\n",
        "from PIL import Image\n",
        "from io import BytesIO\n",
        "\n",
        "from transformers import AutoProcessor, AutoModelForVision2Seq, AwqConfig, BitsAndBytesConfig\n",
        "from transformers.image_utils import load_image\n",
        "import time\n",
        "\n",
        "DEVICE = \"cuda:0\""
      ],
      "metadata": {
        "id": "XJ0U1Qpz1xrq"
      },
      "execution_count": null,
      "outputs": []
    },
    {
      "cell_type": "code",
      "source": [
        "# These are the only variables to change\n",
        "IMAGE_SPLITTING = False\n",
        "DTYPE = torch.float16 # [torch.float32, torch.float16, torch.bfloat16]\n",
        "ATTN_IMPLEMENTATION = \"flash_attention_2\" # [None, \"flash_attention_2\"]\n",
        "QUANTIZATION_SCHEME = \"awq\" # [None, \"bitsandbytes\", \"awq\"]\n",
        "AWQ_FUSING = False"
      ],
      "metadata": {
        "id": "JDp0pZ6VsiRo"
      },
      "execution_count": null,
      "outputs": []
    },
    {
      "cell_type": "code",
      "execution_count": null,
      "metadata": {
        "id": "p0XelP1hleNa"
      },
      "outputs": [],
      "source": [
        "model_name = \"HuggingFaceM4/idefics2-8b\"\n",
        "\n",
        "if QUANTIZATION_SCHEME is not None:\n",
        "    if QUANTIZATION_SCHEME == \"bitsandbytes\":\n",
        "        quantization_config = BitsAndBytesConfig(\n",
        "          load_in_4bit=True,\n",
        "          bnb_4bit_quant_type=\"nf4\",\n",
        "          bnb_4bit_use_double_quant=True,\n",
        "          bnb_4bit_compute_dtype=torch.float16\n",
        "        )\n",
        "    elif QUANTIZATION_SCHEME == \"awq\":\n",
        "        if AWQ_FUSING:\n",
        "            if ATTN_IMPLEMENTATION is not None:\n",
        "                raise ValueError(\"Cannot use flash attention with AWQ Quantization\")\n",
        "            quantization_config = AwqConfig(\n",
        "                bits=4,\n",
        "                fuse_max_seq_len=4096,\n",
        "                modules_to_fuse={\n",
        "                    \"attention\": [\"q_proj\", \"k_proj\", \"v_proj\", \"o_proj\"],\n",
        "                    \"mlp\": [\"gate_proj\", \"up_proj\", \"down_proj\"],\n",
        "                    \"layernorm\": [\"input_layernorm\", \"post_attention_layernorm\", \"norm\"],\n",
        "                    \"use_alibi\": False,\n",
        "                    \"num_attention_heads\": 32,\n",
        "                    \"num_key_value_heads\": 8,\n",
        "                    \"hidden_size\": 4096,\n",
        "                }\n",
        "            )\n",
        "        model_name = \"HuggingFaceM4/idefics2-8b-AWQ\"\n",
        "    else:\n",
        "        raise ValueError(\"Unknown configuration\")\n",
        "\n",
        "\n",
        "processor = AutoProcessor.from_pretrained(\n",
        "    \"HuggingFaceM4/idefics2-8b\",\n",
        "    do_image_splitting=IMAGE_SPLITTING\n",
        ")\n",
        "if QUANTIZATION_SCHEME == \"bitsandbytes\":\n",
        "    model = AutoModelForVision2Seq.from_pretrained(\n",
        "        model_name,\n",
        "        torch_dtype=DTYPE,\n",
        "        _attn_implementation=ATTN_IMPLEMENTATION,\n",
        "        quantization_config=quantization_config,\n",
        "    )\n",
        "elif QUANTIZATION_SCHEME == \"awq\" and AWQ_FUSING:\n",
        "    model = AutoModelForVision2Seq.from_pretrained(\n",
        "        model_name,\n",
        "        torch_dtype=DTYPE,\n",
        "        _attn_implementation=ATTN_IMPLEMENTATION,\n",
        "        quantization_config=quantization_config,\n",
        "    ).to(DEVICE)\n",
        "else:\n",
        "    model = AutoModelForVision2Seq.from_pretrained(\n",
        "        model_name,\n",
        "        torch_dtype=DTYPE,\n",
        "        _attn_implementation=ATTN_IMPLEMENTATION,\n",
        "    ).to(DEVICE)\n"
      ]
    },
    {
      "cell_type": "code",
      "source": [
        "# Note that passing the image urls (instead of the actual pil images) to the processor is also possible\n",
        "image1 = load_image(\"https://cdn.britannica.com/61/93061-050-99147DCE/Statue-of-Liberty-Island-New-York-Bay.jpg\")\n",
        "image2 = load_image(\"https://cdn.britannica.com/59/94459-050-DBA42467/Skyline-Chicago.jpg\")\n",
        "\n",
        "\n",
        "messages = [\n",
        "    {\n",
        "        \"role\": \"user\",\n",
        "        \"content\": [\n",
        "            {\"type\": \"image\"},\n",
        "            {\"type\": \"text\", \"text\": \"What do we see in this image?\"},\n",
        "        ]\n",
        "    },\n",
        "    {\n",
        "        \"role\": \"assistant\",\n",
        "        \"content\": [\n",
        "            {\"type\": \"text\", \"text\": \"In this image, we can see the city of New York, and more specifically the Statue of Liberty.\"},\n",
        "        ]\n",
        "    },\n",
        "    {\n",
        "        \"role\": \"user\",\n",
        "        \"content\": [\n",
        "            {\"type\": \"image\"},\n",
        "            {\"type\": \"text\", \"text\": \"And how about this image?\"},\n",
        "        ]\n",
        "    },\n",
        "]\n",
        "prompt = processor.apply_chat_template(messages, add_generation_prompt=True)\n",
        "inputs = processor(text=prompt, images=[image1, image2], return_tensors=\"pt\")\n",
        "inputs = {k: v.to(DEVICE) for k, v in inputs.items()}\n"
      ],
      "metadata": {
        "id": "-HD805fkucdn"
      },
      "execution_count": null,
      "outputs": []
    },
    {
      "cell_type": "code",
      "source": [
        "NB_REPEATS = 20\n",
        "start = time.time()\n",
        "for i in range(NB_REPEATS):\n",
        "    generated_ids = model.generate(**inputs, max_new_tokens=500)\n",
        "\n",
        "print(\"time for 20 generations:\", (time.time() - start))\n",
        "print(\"max memory allocated:\", torch.cuda.max_memory_allocated())\n",
        "print(\"number of tokens generated:\", len(generated_ids[:, inputs[\"input_ids\"].size(1):][0]))\n",
        "print(processor.batch_decode(generated_ids, skip_special_tokens=True))"
      ],
      "metadata": {
        "id": "N9hvwZ6dud8U"
      },
      "execution_count": null,
      "outputs": []
    }
  ]
}